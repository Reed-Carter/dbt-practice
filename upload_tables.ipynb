{
 "cells": [
  {
   "cell_type": "code",
   "execution_count": 2,
   "metadata": {},
   "outputs": [
    {
     "name": "stderr",
     "output_type": "stream",
     "text": [
      "/tmp/ipykernel_16202/1581784161.py:2: DeprecationWarning: the imp module is deprecated in favour of importlib and slated for removal in Python 3.12; see the module's documentation for alternative uses\n",
      "  from imp import source_from_cache\n"
     ]
    }
   ],
   "source": [
    "import pandas as pd\n",
    "from imp import source_from_cache\n",
    "from google.cloud import bigquery"
   ]
  },
  {
   "cell_type": "code",
   "execution_count": 7,
   "metadata": {},
   "outputs": [
    {
     "name": "stdout",
     "output_type": "stream",
     "text": [
      "Loaded 940 rows and 15 columns to deb-01-372116.fit_bit.daily_activity\n"
     ]
    }
   ],
   "source": [
    "# Construct a BigQuery client object to upload csv to google cloud console\n",
    "client = bigquery.Client()\n",
    "job_config = bigquery.LoadJobConfig(\n",
    "    source_format=\"CSV\",\n",
    "    autodetect=True,\n",
    "    create_disposition=\"CREATE_IF_NEEDED\",\n",
    "    write_disposition=\"WRITE_TRUNCATE\",\n",
    ")\n",
    "table_id = \"deb-01-372116.fit_bit.daily_activity\"\n",
    "file_name = \"./data/dailyActivity_merged.csv\"\n",
    "with open(file_name, \"rb\") as fp:\n",
    "    job = client.load_table_from_file(fp, table_id, job_config=job_config)\n",
    "\n",
    "job.result()\n",
    "\n",
    "table = client.get_table(table_id)\n",
    "print(\n",
    "    \"Loaded {} rows and {} columns to {}\".format(\n",
    "        table.num_rows, len(table.schema), table_id\n",
    "    )\n",
    ")"
   ]
  },
  {
   "cell_type": "code",
   "execution_count": 8,
   "metadata": {},
   "outputs": [
    {
     "name": "stdout",
     "output_type": "stream",
     "text": [
      "Loaded 940 rows and 3 columns to deb-01-372116.fit_bit.daily_calories\n"
     ]
    }
   ],
   "source": [
    "# Construct a BigQuery client object to upload csv to google cloud console\n",
    "client = bigquery.Client()\n",
    "job_config = bigquery.LoadJobConfig(\n",
    "    source_format=\"CSV\",\n",
    "    autodetect=True,\n",
    "    create_disposition=\"CREATE_IF_NEEDED\",\n",
    "    write_disposition=\"WRITE_TRUNCATE\",\n",
    ")\n",
    "table_id = \"deb-01-372116.fit_bit.daily_calories\"\n",
    "file_name = \"./data/dailyCalories_merged.csv\"\n",
    "with open(file_name, \"rb\") as fp:\n",
    "    job = client.load_table_from_file(fp, table_id, job_config=job_config)\n",
    "\n",
    "job.result()\n",
    "\n",
    "table = client.get_table(table_id)\n",
    "print(\n",
    "    \"Loaded {} rows and {} columns to {}\".format(\n",
    "        table.num_rows, len(table.schema), table_id\n",
    "    )\n",
    ")"
   ]
  },
  {
   "cell_type": "code",
   "execution_count": 9,
   "metadata": {},
   "outputs": [
    {
     "name": "stdout",
     "output_type": "stream",
     "text": [
      "Loaded 940 rows and 10 columns to deb-01-372116.fit_bit.daily_intensities\n"
     ]
    }
   ],
   "source": [
    "# Construct a BigQuery client object to upload csv to google cloud console\n",
    "client = bigquery.Client()\n",
    "job_config = bigquery.LoadJobConfig(\n",
    "    source_format=\"CSV\",\n",
    "    autodetect=True,\n",
    "    create_disposition=\"CREATE_IF_NEEDED\",\n",
    "    write_disposition=\"WRITE_TRUNCATE\",\n",
    ")\n",
    "table_id = \"deb-01-372116.fit_bit.daily_intensities\"\n",
    "file_name = \"./data/dailyIntensities_merged.csv\"\n",
    "with open(file_name, \"rb\") as fp:\n",
    "    job = client.load_table_from_file(fp, table_id, job_config=job_config)\n",
    "\n",
    "job.result()\n",
    "\n",
    "table = client.get_table(table_id)\n",
    "print(\n",
    "    \"Loaded {} rows and {} columns to {}\".format(\n",
    "        table.num_rows, len(table.schema), table_id\n",
    "    )\n",
    ")"
   ]
  },
  {
   "cell_type": "code",
   "execution_count": 10,
   "metadata": {},
   "outputs": [
    {
     "name": "stdout",
     "output_type": "stream",
     "text": [
      "Loaded 940 rows and 3 columns to deb-01-372116.fit_bit.daily_steps\n"
     ]
    }
   ],
   "source": [
    "# Construct a BigQuery client object to upload csv to google cloud console\n",
    "client = bigquery.Client()\n",
    "job_config = bigquery.LoadJobConfig(\n",
    "    source_format=\"CSV\",\n",
    "    autodetect=True,\n",
    "    create_disposition=\"CREATE_IF_NEEDED\",\n",
    "    write_disposition=\"WRITE_TRUNCATE\",\n",
    ")\n",
    "table_id = \"deb-01-372116.fit_bit.daily_steps\"\n",
    "file_name = \"./data/dailySteps_merged.csv\"\n",
    "with open(file_name, \"rb\") as fp:\n",
    "    job = client.load_table_from_file(fp, table_id, job_config=job_config)\n",
    "\n",
    "job.result()\n",
    "\n",
    "table = client.get_table(table_id)\n",
    "print(\n",
    "    \"Loaded {} rows and {} columns to {}\".format(\n",
    "        table.num_rows, len(table.schema), table_id\n",
    "    )\n",
    ")"
   ]
  },
  {
   "cell_type": "code",
   "execution_count": 7,
   "metadata": {},
   "outputs": [
    {
     "name": "stdout",
     "output_type": "stream",
     "text": [
      "Loaded 2483658 rows and 3 columns to deb-01-372116.fit_bit.heartrate_seconds\n"
     ]
    }
   ],
   "source": [
    "#read file\n",
    "file_name = \"./data/heartrate_seconds_merged.csv\"\n",
    "df = pd.read_csv(file_name, header=0)\n",
    "#convert acivity hour to readable datetime object by BigQuery and drop duplicates\n",
    "df['Time']=pd.to_datetime(df[\"Time\"], format=\"%m/%d/%Y %I:%M:%S %p\", utc=True)\n",
    "df.drop_duplicates(ignore_index=True)\n",
    "df.to_csv(\"./data/heartrate_seconds_merged.csv\", index=False)\n",
    "\n",
    "# Construct a BigQuery client object to upload csv to google cloud console\n",
    "client = bigquery.Client()\n",
    "job_config = bigquery.LoadJobConfig(\n",
    "    source_format=\"CSV\",\n",
    "    autodetect=True,\n",
    "    create_disposition=\"CREATE_IF_NEEDED\",\n",
    "    write_disposition=\"WRITE_TRUNCATE\",\n",
    ")\n",
    "table_id = \"deb-01-372116.fit_bit.heartrate_seconds\"\n",
    "file_name = \"./data/heartrate_seconds_merged.csv\"\n",
    "with open(file_name, \"rb\") as fp:\n",
    "    job = client.load_table_from_file(fp, table_id, job_config=job_config)\n",
    "\n",
    "job.result()\n",
    "\n",
    "table = client.get_table(table_id)\n",
    "print(\n",
    "    \"Loaded {} rows and {} columns to {}\".format(\n",
    "        table.num_rows, len(table.schema), table_id\n",
    "    )\n",
    ")"
   ]
  },
  {
   "cell_type": "code",
   "execution_count": 8,
   "metadata": {},
   "outputs": [
    {
     "name": "stdout",
     "output_type": "stream",
     "text": [
      "Loaded 22099 rows and 3 columns to deb-01-372116.fit_bit.hourly_calories1\n"
     ]
    }
   ],
   "source": [
    "#read file\n",
    "file_name = \"./data/hourlyCalories_merged.csv\"\n",
    "df = pd.read_csv(file_name, header=0)\n",
    "#convert acivity hour to readable datetime object by BigQuery and drop duplicates\n",
    "df['ActivityHour']=pd.to_datetime(df[\"ActivityHour\"], format=\"%m/%d/%Y %I:%M:%S %p\", utc=True)\n",
    "df.drop_duplicates(ignore_index=True)\n",
    "df.to_csv(\"./data/hourlyCalories_merged.csv\", index=False)\n",
    "\n",
    "# Construct a BigQuery client object to upload csv to google cloud console\n",
    "client = bigquery.Client()\n",
    "job_config = bigquery.LoadJobConfig(\n",
    "    source_format=\"CSV\",\n",
    "    autodetect=True,\n",
    "    create_disposition=\"CREATE_IF_NEEDED\",\n",
    "    write_disposition=\"WRITE_TRUNCATE\",\n",
    ")\n",
    "table_id = \"deb-01-372116.fit_bit.hourly_calories1\"\n",
    "file_name = \"./data/hourlyCalories_merged.csv\"\n",
    "with open(file_name, \"rb\") as fp:\n",
    "    job = client.load_table_from_file(fp, table_id, job_config=job_config)\n",
    "\n",
    "job.result()\n",
    "\n",
    "table = client.get_table(table_id)\n",
    "print(\n",
    "    \"Loaded {} rows and {} columns to {}\".format(\n",
    "        table.num_rows, len(table.schema), table_id\n",
    "    )\n",
    ")"
   ]
  },
  {
   "cell_type": "code",
   "execution_count": 14,
   "metadata": {},
   "outputs": [
    {
     "name": "stdout",
     "output_type": "stream",
     "text": [
      "Loaded 22099 rows and 4 columns to deb-01-372116.fit_bit.hourly_intensities\n"
     ]
    }
   ],
   "source": [
    "#read file\n",
    "file_name = \"./data/hourlyIntensities_merged.csv\"\n",
    "df = pd.read_csv(file_name, header=0)\n",
    "#convert acivity hour to readable datetime object by BigQuery and drop duplicates\n",
    "df['ActivityHour']=pd.to_datetime(df[\"ActivityHour\"], format=\"%m/%d/%Y %I:%M:%S %p\", utc=True)\n",
    "df.drop_duplicates(ignore_index=True)\n",
    "df.to_csv(\"./data/hourlyIntensities_merged.csv\", index=False)\n",
    "\n",
    "# Construct a BigQuery client object to upload csv to google cloud console\n",
    "client = bigquery.Client()\n",
    "job_config = bigquery.LoadJobConfig(\n",
    "    source_format=\"CSV\",\n",
    "    autodetect=True,\n",
    "    create_disposition=\"CREATE_IF_NEEDED\",\n",
    "    write_disposition=\"WRITE_TRUNCATE\",\n",
    ")\n",
    "table_id = \"deb-01-372116.fit_bit.hourly_intensities\"\n",
    "file_name = \"./data/hourlyIntensities_merged.csv\"\n",
    "with open(file_name, \"rb\") as fp:\n",
    "    job = client.load_table_from_file(fp, table_id, job_config=job_config)\n",
    "\n",
    "job.result()\n",
    "\n",
    "table = client.get_table(table_id)\n",
    "print(\n",
    "    \"Loaded {} rows and {} columns to {}\".format(\n",
    "        table.num_rows, len(table.schema), table_id\n",
    "    )\n",
    ")"
   ]
  },
  {
   "cell_type": "code",
   "execution_count": 13,
   "metadata": {},
   "outputs": [
    {
     "name": "stdout",
     "output_type": "stream",
     "text": [
      "Loaded 22099 rows and 3 columns to deb-01-372116.fit_bit.hourly_steps\n"
     ]
    }
   ],
   "source": [
    "#read file\n",
    "file_name = \"./data/hourlySteps_merged.csv\"\n",
    "df = pd.read_csv(file_name, header=0)\n",
    "#convert acivity hour to readable datetime object by BigQuery and drop duplicates\n",
    "df['ActivityHour']=pd.to_datetime(df[\"ActivityHour\"], format=\"%m/%d/%Y %I:%M:%S %p\", utc=True)\n",
    "df.drop_duplicates(ignore_index=True)\n",
    "df.to_csv(\"./data/hourlySteps_merged.csv\", index=False)\n",
    "\n",
    "# Construct a BigQuery client object to upload csv to google cloud console\n",
    "client = bigquery.Client()\n",
    "job_config = bigquery.LoadJobConfig(\n",
    "    source_format=\"CSV\",\n",
    "    autodetect=True,\n",
    "    create_disposition=\"CREATE_IF_NEEDED\",\n",
    "    write_disposition=\"WRITE_TRUNCATE\",\n",
    ")\n",
    "table_id = \"deb-01-372116.fit_bit.hourly_steps\"\n",
    "file_name = \"./data/hourlySteps_merged.csv\"\n",
    "with open(file_name, \"rb\") as fp:\n",
    "    job = client.load_table_from_file(fp, table_id, job_config=job_config)\n",
    "\n",
    "job.result()\n",
    "\n",
    "table = client.get_table(table_id)\n",
    "print(\n",
    "    \"Loaded {} rows and {} columns to {}\".format(\n",
    "        table.num_rows, len(table.schema), table_id\n",
    "    )\n",
    ")"
   ]
  },
  {
   "cell_type": "code",
   "execution_count": 15,
   "metadata": {},
   "outputs": [
    {
     "name": "stdout",
     "output_type": "stream",
     "text": [
      "Loaded 1325580 rows and 3 columns to deb-01-372116.fit_bit.minute_calories\n"
     ]
    }
   ],
   "source": [
    "#read file\n",
    "file_name = \"./data/minuteCaloriesNarrow_merged.csv\"\n",
    "df = pd.read_csv(file_name, header=0)\n",
    "#convert acivity hour to readable datetime object by BigQuery and drop duplicates\n",
    "df['ActivityMinute']=pd.to_datetime(df[\"ActivityMinute\"], format=\"%m/%d/%Y %I:%M:%S %p\", utc=True)\n",
    "df.drop_duplicates(ignore_index=True)\n",
    "df.to_csv(\"./data/minuteCaloriesNarrow_merged.csv\", index=False)\n",
    "\n",
    "# Construct a BigQuery client object to upload csv to google cloud console\n",
    "client = bigquery.Client()\n",
    "job_config = bigquery.LoadJobConfig(\n",
    "    source_format=\"CSV\",\n",
    "    autodetect=True,\n",
    "    create_disposition=\"CREATE_IF_NEEDED\",\n",
    "    write_disposition=\"WRITE_TRUNCATE\",\n",
    ")\n",
    "table_id = \"deb-01-372116.fit_bit.minute_calories\"\n",
    "file_name = \"./data/minuteCaloriesNarrow_merged.csv\"\n",
    "with open(file_name, \"rb\") as fp:\n",
    "    job = client.load_table_from_file(fp, table_id, job_config=job_config)\n",
    "\n",
    "job.result()\n",
    "\n",
    "table = client.get_table(table_id)\n",
    "print(\n",
    "    \"Loaded {} rows and {} columns to {}\".format(\n",
    "        table.num_rows, len(table.schema), table_id\n",
    "    )\n",
    ")"
   ]
  },
  {
   "cell_type": "code",
   "execution_count": 20,
   "metadata": {},
   "outputs": [
    {
     "name": "stdout",
     "output_type": "stream",
     "text": [
      "Loaded 1325580 rows and 3 columns to deb-01-372116.fit_bit.minute_intensities\n"
     ]
    }
   ],
   "source": [
    "#read file\n",
    "file_name = \"./data/minuteIntensitiesNarrow_merged.csv\"\n",
    "df = pd.read_csv(file_name, header=0)\n",
    "#convert acivity hour to readable datetime object by BigQuery and drop duplicates\n",
    "df['ActivityMinute']=pd.to_datetime(df[\"ActivityMinute\"], format=\"%m/%d/%Y %I:%M:%S %p\", utc=True)\n",
    "df.drop_duplicates(ignore_index=True)\n",
    "df.to_csv(\"./data/minuteIntensitiesNarrow_merged.csv\", index=False)\n",
    "\n",
    "# Construct a BigQuery client object to upload csv to google cloud console\n",
    "client = bigquery.Client()\n",
    "job_config = bigquery.LoadJobConfig(\n",
    "    source_format=\"CSV\",\n",
    "    autodetect=True,\n",
    "    create_disposition=\"CREATE_IF_NEEDED\",\n",
    "    write_disposition=\"WRITE_TRUNCATE\",\n",
    ")\n",
    "table_id = \"deb-01-372116.fit_bit.minute_intensities\"\n",
    "file_name = \"./data/minuteIntensitiesNarrow_merged.csv\"\n",
    "with open(file_name, \"rb\") as fp:\n",
    "    job = client.load_table_from_file(fp, table_id, job_config=job_config)\n",
    "\n",
    "job.result()\n",
    "\n",
    "table = client.get_table(table_id)\n",
    "print(\n",
    "    \"Loaded {} rows and {} columns to {}\".format(\n",
    "        table.num_rows, len(table.schema), table_id\n",
    "    )\n",
    ")"
   ]
  },
  {
   "cell_type": "code",
   "execution_count": 19,
   "metadata": {},
   "outputs": [
    {
     "name": "stdout",
     "output_type": "stream",
     "text": [
      "Loaded 1325580 rows and 3 columns to deb-01-372116.fit_bit.minute_MET\n"
     ]
    }
   ],
   "source": [
    "#read file\n",
    "file_name = \"./data/minuteMETsNarrow_merged.csv\"\n",
    "df = pd.read_csv(file_name, header=0)\n",
    "#convert acivity hour to readable datetime object by BigQuery and drop duplicates\n",
    "df['ActivityMinute']=pd.to_datetime(df[\"ActivityMinute\"], format=\"%m/%d/%Y %I:%M:%S %p\", utc=True)\n",
    "df.drop_duplicates(ignore_index=True)\n",
    "df.to_csv(\"./data/minuteMETsNarrow_merged.csv\", index=False)\n",
    "\n",
    "# Construct a BigQuery client object to upload csv to google cloud console\n",
    "client = bigquery.Client()\n",
    "job_config = bigquery.LoadJobConfig(\n",
    "    source_format=\"CSV\",\n",
    "    autodetect=True,\n",
    "    create_disposition=\"CREATE_IF_NEEDED\",\n",
    "    write_disposition=\"WRITE_TRUNCATE\",\n",
    ")\n",
    "table_id = \"deb-01-372116.fit_bit.minute_MET\"\n",
    "file_name = \"./data/minuteMETsNarrow_merged.csv\"\n",
    "with open(file_name, \"rb\") as fp:\n",
    "    job = client.load_table_from_file(fp, table_id, job_config=job_config)\n",
    "\n",
    "job.result()\n",
    "\n",
    "table = client.get_table(table_id)\n",
    "print(\n",
    "    \"Loaded {} rows and {} columns to {}\".format(\n",
    "        table.num_rows, len(table.schema), table_id\n",
    "    )\n",
    ")"
   ]
  },
  {
   "cell_type": "code",
   "execution_count": 24,
   "metadata": {},
   "outputs": [
    {
     "name": "stdout",
     "output_type": "stream",
     "text": [
      "Loaded 1325580 rows and 3 columns to deb-01-372116.fit_bit.minute_steps\n"
     ]
    }
   ],
   "source": [
    "#read file\n",
    "file_name = \"./data/minuteStepsNarrow_merged.csv\"\n",
    "df = pd.read_csv(file_name, header=0)\n",
    "#convert acivity hour to readable datetime object by BigQuery and drop duplicates\n",
    "df['ActivityMinute']=pd.to_datetime(df[\"ActivityMinute\"], format=\"%m/%d/%Y %I:%M:%S %p\", utc=True)\n",
    "df.drop_duplicates(ignore_index=True)\n",
    "df.to_csv(\"./data/minuteStepsNarrow_merged.csv\", index=False)\n",
    "\n",
    "# Construct a BigQuery client object to upload csv to google cloud console\n",
    "client = bigquery.Client()\n",
    "job_config = bigquery.LoadJobConfig(\n",
    "    source_format=\"CSV\",\n",
    "    autodetect=True,\n",
    "    create_disposition=\"CREATE_IF_NEEDED\",\n",
    "    write_disposition=\"WRITE_TRUNCATE\",\n",
    ")\n",
    "table_id = \"deb-01-372116.fit_bit.minute_steps\"\n",
    "file_name = \"./data/minuteStepsNarrow_merged.csv\"\n",
    "with open(file_name, \"rb\") as fp:\n",
    "    job = client.load_table_from_file(fp, table_id, job_config=job_config)\n",
    "\n",
    "job.result()\n",
    "\n",
    "table = client.get_table(table_id)\n",
    "print(\n",
    "    \"Loaded {} rows and {} columns to {}\".format(\n",
    "        table.num_rows, len(table.schema), table_id\n",
    "    )\n",
    ")"
   ]
  },
  {
   "cell_type": "code",
   "execution_count": 26,
   "metadata": {},
   "outputs": [
    {
     "name": "stdout",
     "output_type": "stream",
     "text": [
      "Loaded 188521 rows and 4 columns to deb-01-372116.fit_bit.minute_sleep\n"
     ]
    }
   ],
   "source": [
    "#read file\n",
    "file_name = \"./data/minuteSleep_merged.csv\"\n",
    "df = pd.read_csv(file_name, header=0)\n",
    "#convert acivity hour to readable datetime object by BigQuery and drop duplicates\n",
    "df['date']=pd.to_datetime(df[\"date\"], format=\"%m/%d/%Y %I:%M:%S %p\", utc=True)\n",
    "df.drop_duplicates(ignore_index=True)\n",
    "df.to_csv(\"./data/minuteSleep_merged.csv\", index=False)\n",
    "\n",
    "# Construct a BigQuery client object to upload csv to google cloud console\n",
    "client = bigquery.Client()\n",
    "job_config = bigquery.LoadJobConfig(\n",
    "    source_format=\"CSV\",\n",
    "    autodetect=True,\n",
    "    create_disposition=\"CREATE_IF_NEEDED\",\n",
    "    write_disposition=\"WRITE_TRUNCATE\",\n",
    ")\n",
    "table_id = \"deb-01-372116.fit_bit.minute_sleep\"\n",
    "file_name = \"./data/minuteSleep_merged.csv\"\n",
    "with open(file_name, \"rb\") as fp:\n",
    "    job = client.load_table_from_file(fp, table_id, job_config=job_config)\n",
    "\n",
    "job.result()\n",
    "\n",
    "table = client.get_table(table_id)\n",
    "print(\n",
    "    \"Loaded {} rows and {} columns to {}\".format(\n",
    "        table.num_rows, len(table.schema), table_id\n",
    "    )\n",
    ")"
   ]
  },
  {
   "cell_type": "code",
   "execution_count": 27,
   "metadata": {},
   "outputs": [
    {
     "name": "stdout",
     "output_type": "stream",
     "text": [
      "Loaded 413 rows and 5 columns to deb-01-372116.fit_bit.sleep_day\n"
     ]
    }
   ],
   "source": [
    "#read file\n",
    "file_name = \"./data/sleepDay_merged.csv\"\n",
    "df = pd.read_csv(file_name, header=0)\n",
    "#convert acivity hour to readable datetime object by BigQuery and drop duplicates\n",
    "df['SleepDay']=pd.to_datetime(df[\"SleepDay\"], format=\"%m/%d/%Y %I:%M:%S %p\", utc=True)\n",
    "df.drop_duplicates(ignore_index=True)\n",
    "df.to_csv(\"./data/sleepDay_merged.csv\", index=False)\n",
    "\n",
    "# Construct a BigQuery client object to upload csv to google cloud console\n",
    "client = bigquery.Client()\n",
    "job_config = bigquery.LoadJobConfig(\n",
    "    source_format=\"CSV\",\n",
    "    autodetect=True,\n",
    "    create_disposition=\"CREATE_IF_NEEDED\",\n",
    "    write_disposition=\"WRITE_TRUNCATE\",\n",
    ")\n",
    "table_id = \"dbe-01-372116.fit_bit.sleep_day\"\n",
    "file_name = \"./data/sleepDay_merged.csv\"\n",
    "with open(file_name, \"rb\") as fp:\n",
    "    job = client.load_table_from_file(fp, table_id, job_config=job_config)\n",
    "\n",
    "job.result()\n",
    "\n",
    "table = client.get_table(table_id)\n",
    "print(\n",
    "    \"Loaded {} rows and {} columns to {}\".format(\n",
    "        table.num_rows, len(table.schema), table_id\n",
    "    )\n",
    ")"
   ]
  },
  {
   "cell_type": "code",
   "execution_count": 28,
   "metadata": {},
   "outputs": [
    {
     "name": "stdout",
     "output_type": "stream",
     "text": [
      "Loaded 67 rows and 8 columns to deb-01-372116.fit_bit.weight_log\n"
     ]
    }
   ],
   "source": [
    "#read file\n",
    "file_name = \"./data/weightLogInfo_merged.csv\"\n",
    "df = pd.read_csv(file_name, header=0)\n",
    "#convert acivity hour to readable datetime object by BigQuery and drop duplicates\n",
    "df['Date']=pd.to_datetime(df[\"Date\"], format=\"%m/%d/%Y %I:%M:%S %p\", utc=True)\n",
    "df.drop_duplicates(ignore_index=True)\n",
    "df.to_csv(\"./data/weightLogInfo_merged.csv\", index=False)\n",
    "\n",
    "# Construct a BigQuery client object to upload csv to google cloud console\n",
    "client = bigquery.Client()\n",
    "job_config = bigquery.LoadJobConfig(\n",
    "    source_format=\"CSV\",\n",
    "    autodetect=True,\n",
    "    create_disposition=\"CREATE_IF_NEEDED\",\n",
    "    write_disposition=\"WRITE_TRUNCATE\",\n",
    ")\n",
    "table_id = \"deb-01-372116.fit_bit.weight_log\"\n",
    "file_name = \"./data/weightLogInfo_merged.csv\"\n",
    "with open(file_name, \"rb\") as fp:\n",
    "    job = client.load_table_from_file(fp, table_id, job_config=job_config)\n",
    "\n",
    "job.result()\n",
    "\n",
    "table = client.get_table(table_id)\n",
    "print(\n",
    "    \"Loaded {} rows and {} columns to {}\".format(\n",
    "        table.num_rows, len(table.schema), table_id\n",
    "    )\n",
    ")"
   ]
  },
  {
   "cell_type": "code",
   "execution_count": null,
   "metadata": {},
   "outputs": [],
   "source": []
  },
  {
   "cell_type": "code",
   "execution_count": 71,
   "metadata": {},
   "outputs": [
    {
     "name": "stdout",
     "output_type": "stream",
     "text": [
      "[1, 3, 2]\n",
      "[2]\n"
     ]
    }
   ],
   "source": [
    "#challenge\n",
    "# Imagine the numbers in a list as a bar graph. For example:\n",
    "# a = [0, 0, 1, 3, 2, 0, 0, 2, 0] \n",
    "\n",
    "# Write a function that prints the humps. For example: \n",
    "# (1, 3, 2)  and (2)\n",
    "\n",
    "a= [0, 0, 1, 3, 2, 0, 0, 2, 0] \n",
    "def humps(a):\n",
    "    output = []\n",
    "    for i in a:\n",
    "        if i > 0:\n",
    "            output.append(i)\n",
    "        elif i == 0 and output:\n",
    "            print(output)\n",
    "            output = []\n",
    "humps(a)"
   ]
  }
 ],
 "metadata": {
  "kernelspec": {
   "display_name": "venvdbtpractice",
   "language": "python",
   "name": "python3"
  },
  "language_info": {
   "codemirror_mode": {
    "name": "ipython",
    "version": 3
   },
   "file_extension": ".py",
   "mimetype": "text/x-python",
   "name": "python",
   "nbconvert_exporter": "python",
   "pygments_lexer": "ipython3",
   "version": "3.10.6 (main, Nov 14 2022, 16:10:14) [GCC 11.3.0]"
  },
  "orig_nbformat": 4,
  "vscode": {
   "interpreter": {
    "hash": "c8b35754d47996c248a15f567a52efa87551ff2895b1ee8b70c10a74a9ad98fd"
   }
  }
 },
 "nbformat": 4,
 "nbformat_minor": 2
}
